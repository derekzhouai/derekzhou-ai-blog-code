{
 "cells": [
  {
   "cell_type": "markdown",
   "id": "cc09a518",
   "metadata": {},
   "source": [
    "# VGG\n",
    "\n",
    "This notebook is for the blog: [VGG: Deep but Simple](https://derekzhouai.github.io/posts/building-vgg-for-mnist/)"
   ]
  },
  {
   "cell_type": "markdown",
   "id": "21144021",
   "metadata": {},
   "source": [
    "## Model Architecture"
   ]
  },
  {
   "cell_type": "code",
   "execution_count": null,
   "id": "4ee6c379",
   "metadata": {},
   "outputs": [],
   "source": [
    "import torch.nn as nn\n",
    "\n",
    "class VGGBlock(nn.Module):\n",
    "    def __init__(self, in_channels, out_channels, num_convs):\n",
    "        super().__init__()\n",
    "        layers = []\n",
    "        for _ in range(num_convs):\n",
    "            layers.append(nn.Conv2d(in_channels, out_channels, kernel_size=3, padding=1))\n",
    "            layers.append(nn.ReLU())\n",
    "            in_channels = out_channels\n",
    "        layers.append(nn.MaxPool2d(kernel_size=2, stride=2))\n",
    "        self.block = nn.Sequential(*layers)\n",
    "\n",
    "    def forward(self, x):\n",
    "        return self.block(x)"
   ]
  },
  {
   "cell_type": "code",
   "execution_count": null,
   "id": "65571fc7",
   "metadata": {},
   "outputs": [],
   "source": [
    "class VGG11(nn.Module):\n",
    "    def __init__(self, num_classes=10):\n",
    "        super().__init__()\n",
    "        self.net = nn.Sequential(\n",
    "            # Layer #1: 1 (convolutional layer + ReLU) + MaxPool\n",
    "            VGGBlock(1, 64, 1),      # 1x224x224 → 64x112x112\n",
    "\n",
    "            # Layer #2: 1 (convolutional layer + ReLU) + MaxPool\n",
    "            VGGBlock(64, 128, 1),    # 64x112x112 → 128x56x56\n",
    "\n",
    "            # Layer #3: 2 (convolutional layers + ReLU) + MaxPool\n",
    "            VGGBlock(128, 256, 2),   # 128x56x56 → 256x28x28\n",
    "\n",
    "            # Layer #4: 2 (convolutional layers + ReLU) + MaxPool\n",
    "            VGGBlock(256, 512, 2),   # 256x28x28 → 512x14x14\n",
    "\n",
    "            # Layer #5: 2 (convolutional layers + ReLU) + MaxPool\n",
    "            VGGBlock(512, 512, 2),   # 512x14x14 → 512x7x7\n",
    "\n",
    "            nn.Flatten(),            # 512x7x7 → 25088\n",
    "\n",
    "            # Layer #6:\n",
    "            nn.Linear(25088, 4096),  # 25088 → 4096\n",
    "            nn.ReLU(),\n",
    "            nn.Dropout(0.5),\n",
    "\n",
    "            # Layer #7:\n",
    "            nn.Linear(4096, 4096),  # 4096 → 4096\n",
    "            nn.ReLU(),\n",
    "            nn.Dropout(0.5),\n",
    "\n",
    "            # Layer #8:\n",
    "            nn.Linear(4096, num_classes), # 4096 → 10\n",
    "        )\n",
    "\n",
    "    def forward(self, x):\n",
    "        return self.net(x)"
   ]
  },
  {
   "cell_type": "markdown",
   "id": "12416867",
   "metadata": {},
   "source": [
    "## Model Training"
   ]
  },
  {
   "cell_type": "markdown",
   "id": "4e4d1235",
   "metadata": {},
   "source": [
    "### Preparing the Data"
   ]
  },
  {
   "cell_type": "code",
   "execution_count": null,
   "id": "e9190612",
   "metadata": {},
   "outputs": [],
   "source": [
    "from torch.utils.data import DataLoader\n",
    "from torchvision import datasets, transforms\n",
    "\n",
    "def get_data_loaders(batch_size=128):\n",
    "    transform = transforms.Compose([\n",
    "        transforms.Resize(224),    # Upscale 28x28 → 224x224\n",
    "        transforms.ToTensor()\n",
    "    ])\n",
    "\n",
    "    train_dataset = datasets.FashionMNIST(root='./data', train=True, download=True, transform=transform)\n",
    "    test_dataset = datasets.FashionMNIST(root='./data', train=False, download=True, transform=transform)\n",
    "\n",
    "    train_loader = DataLoader(train_dataset, batch_size=batch_size, shuffle=True, num_workers=4)\n",
    "    test_loader = DataLoader(test_dataset, batch_size=batch_size, shuffle=False, num_workers=4)\n",
    "\n",
    "    return train_loader, test_loader"
   ]
  },
  {
   "cell_type": "code",
   "execution_count": null,
   "id": "dfd553ea",
   "metadata": {},
   "outputs": [],
   "source": [
    "train_loader, test_loader = get_data_loaders(batch_size=128)\n",
    "print(f\"Number of training samples: {len(train_loader.dataset)}\")\n",
    "print(f\"Number of test samples: {len(test_loader.dataset)}\")"
   ]
  },
  {
   "cell_type": "code",
   "execution_count": null,
   "id": "302da900",
   "metadata": {},
   "outputs": [],
   "source": [
    "X, y = next(iter(train_loader))\n",
    "print(f\"X.shape: {X.shape}\")\n",
    "print(f\"y.shape: {y.shape}\")"
   ]
  },
  {
   "cell_type": "markdown",
   "id": "1b84c39c",
   "metadata": {},
   "source": [
    "### Training Loop"
   ]
  },
  {
   "cell_type": "code",
   "execution_count": null,
   "id": "cc1f778c",
   "metadata": {},
   "outputs": [],
   "source": [
    "import torch\n",
    "\n",
    "def evaluate(model, loader, loss, device):\n",
    "    model.eval()\n",
    "    total_loss, total_correct, total_num = 0.0, 0, 0\n",
    "\n",
    "    with torch.no_grad():\n",
    "        for X, y in loader:\n",
    "            X, y = X.to(device), y.to(device)\n",
    "            \n",
    "            y_hat = model(X)\n",
    "            l = loss(y_hat, y)\n",
    "\n",
    "            total_loss += l.item() * X.size(0)\n",
    "            total_correct += (y_hat.argmax(dim=1) == y).sum().item()\n",
    "            total_num += X.size(0)\n",
    "            \n",
    "    return total_loss / total_num, total_correct / total_num"
   ]
  },
  {
   "cell_type": "code",
   "execution_count": null,
   "id": "d772e4a5",
   "metadata": {},
   "outputs": [],
   "source": [
    "def train(model, num_epochs, batch_size, lr, device):\n",
    "    model.to(device)\n",
    "    \n",
    "    optimizer = torch.optim.SGD(model.parameters(), lr=lr)\n",
    "    loss = nn.CrossEntropyLoss()\n",
    "\n",
    "    train_loader, test_loader = get_data_loaders(batch_size)\n",
    "\n",
    "    for epoch in range(num_epochs):\n",
    "        model.train()\n",
    "        total_loss, total_correct, total_num = 0.0, 0, 0\n",
    "\n",
    "        for X, y in train_loader:\n",
    "            X, y = X.to(device), y.to(device)\n",
    "        \n",
    "            optimizer.zero_grad()\n",
    "            y_hat = model(X)\n",
    "            l = loss(y_hat, y)\n",
    "            l.backward()\n",
    "            optimizer.step()\n",
    "\n",
    "            total_loss += l.item() * X.size(0)\n",
    "            total_correct += (y_hat.argmax(dim=1) == y).sum().item()\n",
    "            total_num += X.size(0)\n",
    "\n",
    "        train_loss = total_loss / total_num\n",
    "        train_acc = total_correct / total_num\n",
    "\n",
    "        test_loss, test_acc = evaluate(model, test_loader, loss, device)\n",
    "        print(f\"Epoch {epoch+1}/{num_epochs}: \"\n",
    "              f\"Train => Loss: {train_loss:.4f}, Acc: {train_acc:.4f} | \"\n",
    "              f\"Test => Loss: {test_loss:.4f}, Acc: {test_acc:.4f}\")"
   ]
  },
  {
   "cell_type": "code",
   "execution_count": null,
   "id": "ea9c25bc",
   "metadata": {},
   "outputs": [],
   "source": [
    "device = (\n",
    "    torch.device(\"cuda\") if torch.cuda.is_available()\n",
    "    else torch.device(\"mps\") if torch.backends.mps.is_available()\n",
    "    else torch.device(\"cpu\")\n",
    ")\n",
    "model = VGG11()\n",
    "num_epochs = 10\n",
    "batch_size = 128\n",
    "lr = 0.1\n",
    "\n",
    "train(model, num_epochs, batch_size, lr, device)"
   ]
  },
  {
   "cell_type": "code",
   "execution_count": null,
   "id": "8f039bc7",
   "metadata": {},
   "outputs": [],
   "source": [
    "total_params = sum(p.numel() for p in model.parameters())\n",
    "trainable_params = sum(p.numel() for p in model.parameters() if p.requires_grad)\n",
    "\n",
    "print(f\"Total parameters: {total_params}\")\n",
    "print(f\"Trainable parameters: {trainable_params}\")"
   ]
  },
  {
   "cell_type": "markdown",
   "id": "08ecb052",
   "metadata": {},
   "source": [
    "## Model Testing"
   ]
  },
  {
   "cell_type": "code",
   "execution_count": null,
   "id": "323b3849",
   "metadata": {},
   "outputs": [],
   "source": [
    "import torch\n",
    "import matplotlib.pyplot as plt\n",
    "\n",
    "# FashionMNIST class names\n",
    "FASHION_CLASSES = [\n",
    "    \"T-shirt/top\", \"Trouser\", \"Pullover\", \"Dress\", \"Coat\",\n",
    "    \"Sandal\", \"Shirt\", \"Sneaker\", \"Bag\", \"Ankle boot\"\n",
    "]\n",
    "\n",
    "def show_fashionmnist_preds(model, test_loader, device, n=8):\n",
    "    \"\"\"\n",
    "    Show n FashionMNIST test images with predicted and true labels.\n",
    "    \"\"\"\n",
    "    model.to(device)\n",
    "    model.eval()\n",
    "    with torch.no_grad():\n",
    "        X, y = next(iter(test_loader))\n",
    "        X, y = X[:n], y[:n]\n",
    "        pred = model(X.to(device)).argmax(1).cpu()\n",
    "\n",
    "    plt.figure(figsize=(2*n, 2.6))\n",
    "    for i in range(n):\n",
    "        plt.subplot(1, n, i + 1)\n",
    "        img = X[i].squeeze().cpu()\n",
    "        plt.imshow(img, cmap=\"gray\")\n",
    "        p_idx, t_idx = pred[i].item(), y[i].item()\n",
    "        plt.title(f\"P:{FASHION_CLASSES[p_idx]}\\nT:{FASHION_CLASSES[t_idx]}\", fontsize=9)\n",
    "        plt.axis(\"off\")\n",
    "    plt.tight_layout()\n",
    "    plt.show()\n",
    "\n",
    "show_fashionmnist_preds(model, test_loader, device, n=8)"
   ]
  }
 ],
 "metadata": {
  "kernelspec": {
   "display_name": "d2l2",
   "language": "python",
   "name": "python3"
  },
  "language_info": {
   "codemirror_mode": {
    "name": "ipython",
    "version": 3
   },
   "file_extension": ".py",
   "mimetype": "text/x-python",
   "name": "python",
   "nbconvert_exporter": "python",
   "pygments_lexer": "ipython3",
   "version": "3.10.18"
  }
 },
 "nbformat": 4,
 "nbformat_minor": 5
}
