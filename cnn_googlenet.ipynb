{
 "cells": [
  {
   "cell_type": "markdown",
   "id": "cc09a518",
   "metadata": {},
   "source": [
    "# GoogLeNet\n",
    "\n",
    "This notebook is for the blog: [GoogLeNet: Going Deeper with Inception](https://derekzhouai.github.io/posts/googlenet/)"
   ]
  },
  {
   "cell_type": "code",
   "execution_count": 2,
   "id": "efd8b254",
   "metadata": {},
   "outputs": [],
   "source": [
    "import torch\n",
    "from torch import nn\n",
    "from torch.utils.data import DataLoader\n",
    "from torchvision import datasets, models, transforms\n",
    "import matplotlib.pyplot as plt"
   ]
  },
  {
   "cell_type": "markdown",
   "id": "21144021",
   "metadata": {},
   "source": [
    "## Model Implementation"
   ]
  },
  {
   "cell_type": "code",
   "execution_count": null,
   "id": "7c74d609",
   "metadata": {},
   "outputs": [],
   "source": [
    "class Inception(nn.Module):\n",
    "    def __init__(self, in_channels, out_1_1x1, out_2_1x1, out_2_3x3, out_3_1x1, out_3_5x5, out_4_pool):\n",
    "        super().__init__()\n",
    "        # 1x1 conv branch\n",
    "        self.branch1 = nn.Sequential(\n",
    "            nn.Conv2d(in_channels, out_1_1x1, kernel_size=1),\n",
    "            nn.ReLU(inplace=True)\n",
    "        )\n",
    "        # 1x1 conv -> 3x3 conv branch\n",
    "        self.branch2 = nn.Sequential(\n",
    "            nn.Conv2d(in_channels, out_2_1x1, kernel_size=1),\n",
    "            nn.ReLU(inplace=True),\n",
    "            nn.Conv2d(out_2_1x1, out_2_3x3, kernel_size=3, padding=1),\n",
    "            nn.ReLU(inplace=True)\n",
    "        )\n",
    "        # 1x1 conv -> 5x5 conv branch\n",
    "        self.branch3 = nn.Sequential(\n",
    "            nn.Conv2d(in_channels, out_3_1x1, kernel_size=1),\n",
    "            nn.ReLU(inplace=True),\n",
    "            nn.Conv2d(out_3_1x1, out_3_5x5, kernel_size=5, padding=2),\n",
    "            nn.ReLU(inplace=True)\n",
    "        )\n",
    "        # 3x3 max pool -> 1x1 conv branch\n",
    "        self.branch4 = nn.Sequential(\n",
    "            nn.MaxPool2d(kernel_size=3, stride=1, padding=1),\n",
    "            nn.Conv2d(in_channels, out_4_pool, kernel_size=1),\n",
    "            nn.ReLU(inplace=True)\n",
    "        )\n",
    "\n",
    "    def forward(self, x):\n",
    "        branch1_out = self.branch1(x)\n",
    "        branch2_out = self.branch2(x)\n",
    "        branch3_out = self.branch3(x)\n",
    "        branch4_out = self.branch4(x)\n",
    "        outputs = [branch1_out, branch2_out, branch3_out, branch4_out]\n",
    "        return torch.cat(outputs, 1)"
   ]
  },
  {
   "cell_type": "code",
   "execution_count": null,
   "id": "7b1c57af",
   "metadata": {},
   "outputs": [],
   "source": [
    "class GoogLeNet(nn.Module):\n",
    "    def __init__(self, input_channels=3, num_classes=1000):\n",
    "        super().__init__()\n",
    "        self.net = nn.Sequential(\n",
    "            # Stage 1\n",
    "            nn.Conv2d(input_channels, 64, kernel_size=7, stride=2, padding=3), # input_channelsx224x224 → 64x112x112\n",
    "            nn.ReLU(inplace=True),\n",
    "            nn.MaxPool2d(3, stride=2, padding=1),                 # 64x112x112 → 64x56x56\n",
    "\n",
    "            # Stage 2\n",
    "            nn.Conv2d(64, 64, kernel_size=1),                     # 64x56x56 → 64x56x56\n",
    "            nn.ReLU(inplace=True),\n",
    "            nn.Conv2d(64, 192, kernel_size=3, padding=1),         # 64x56x56 → 192x56x56\n",
    "            nn.ReLU(inplace=True),\n",
    "            nn.MaxPool2d(3, stride=2, padding=1),                 # 192x56x56 → 192x28x28\n",
    "\n",
    "            # Stage 3\n",
    "            Inception(192, 64, 96, 128, 16, 32, 32),              # 192x28x28 → 256x28x28\n",
    "            Inception(256, 128, 128, 192, 32, 96, 64),            # 256x28x28 → 480x28x28\n",
    "            nn.MaxPool2d(3, stride=2, padding=1),                 # 480x28x28 → 480x14x14\n",
    "\n",
    "            # Stage 4\n",
    "            Inception(480, 192, 96, 208, 16, 48, 64),             # 480x14x14 → 512x14x14\n",
    "            Inception(512, 160, 112, 224, 24, 64, 64),            # 512x14x14 → 512x14x14\n",
    "            Inception(512, 128, 128, 256, 24, 64, 64),            # 512x14x14 → 512x14x14\n",
    "            Inception(512, 112, 144, 288, 32, 64, 64),            # 512x14x14 → 528x14x14\n",
    "            Inception(528, 256, 160, 320, 32, 128, 128),          # 528x14x14 → 832x14x14\n",
    "            nn.MaxPool2d(3, stride=2, padding=1),                 # 832x14x14 → 832x7x7\n",
    "\n",
    "            # Stage 5\n",
    "            Inception(832, 256, 160, 320, 32, 128, 128),          # 832x7x7 → 832x7x7\n",
    "            Inception(832, 384, 192, 384, 48, 128, 128),          # 832x7x7 → 1024x7x7\n",
    "            nn.AdaptiveAvgPool2d((1,1)),                          # 1024x7x7 → 1024x1x1\n",
    "\n",
    "            nn.Flatten(),                                         # 1024x1x1 → 1024\n",
    "            nn.Linear(1024, num_classes)                          # 1024 → num_classes\n",
    "        )\n",
    "\n",
    "    def forward(self, x):\n",
    "        return self.net(x)"
   ]
  },
  {
   "cell_type": "code",
   "execution_count": null,
   "id": "b631f867",
   "metadata": {},
   "outputs": [],
   "source": [
    "X = torch.randn(1, 3, 224, 224)\n",
    "for layer in GoogLeNet().net:\n",
    "    X = layer(X)\n",
    "    print(layer.__class__.__name__, 'output shape:\\t', X.shape)"
   ]
  },
  {
   "cell_type": "markdown",
   "id": "12416867",
   "metadata": {},
   "source": [
    "## Example: Model Training on FashionMNIST"
   ]
  },
  {
   "cell_type": "markdown",
   "id": "9cc4e0dd",
   "metadata": {},
   "source": [
    "### Preparing the Dataset"
   ]
  },
  {
   "cell_type": "code",
   "execution_count": null,
   "id": "af94f254",
   "metadata": {},
   "outputs": [],
   "source": [
    "def get_data_loaders(batch_size=128):\n",
    "    transform = transforms.Compose([\n",
    "        transforms.Resize(224),    # Upscale 28x28 → 224x224\n",
    "        transforms.ToTensor()\n",
    "    ])\n",
    "\n",
    "    train_dataset = datasets.FashionMNIST(root='./data', train=True, download=True, transform=transform)\n",
    "    test_dataset = datasets.FashionMNIST(root='./data', train=False, download=True, transform=transform)\n",
    "\n",
    "    train_loader = DataLoader(train_dataset, batch_size=batch_size, shuffle=True)\n",
    "    test_loader = DataLoader(test_dataset, batch_size=batch_size, shuffle=False)\n",
    "\n",
    "    return train_loader, test_loader"
   ]
  },
  {
   "cell_type": "code",
   "execution_count": null,
   "id": "f9be19d1",
   "metadata": {},
   "outputs": [],
   "source": [
    "train_loader, test_loader = get_data_loaders(batch_size=128)\n",
    "print(f\"Number of training samples: {len(train_loader.dataset)}\")\n",
    "print(f\"Number of test samples: {len(test_loader.dataset)}\")"
   ]
  },
  {
   "cell_type": "code",
   "execution_count": null,
   "id": "67ceab59",
   "metadata": {},
   "outputs": [],
   "source": [
    "X, y = next(iter(train_loader))\n",
    "print(f\"X.shape: {X.shape}\")\n",
    "print(f\"y.shape: {y.shape}\")"
   ]
  },
  {
   "cell_type": "markdown",
   "id": "1b84c39c",
   "metadata": {},
   "source": [
    "### Training the Model"
   ]
  },
  {
   "cell_type": "code",
   "execution_count": null,
   "id": "de2a13f0",
   "metadata": {},
   "outputs": [],
   "source": [
    "def evaluate(model, loader, loss, device):\n",
    "    model.eval()\n",
    "    total_loss, total_correct, total_num = 0.0, 0, 0\n",
    "\n",
    "    with torch.no_grad():\n",
    "        for X, y in loader:\n",
    "            X, y = X.to(device), y.to(device)\n",
    "            \n",
    "            y_hat = model(X)\n",
    "            l = loss(y_hat, y)\n",
    "\n",
    "            total_loss += l.item() * X.size(0)\n",
    "            total_correct += (y_hat.argmax(dim=1) == y).sum().item()\n",
    "            total_num += X.size(0)\n",
    "            \n",
    "    return total_loss / total_num, total_correct / total_num"
   ]
  },
  {
   "cell_type": "code",
   "execution_count": null,
   "id": "abaaff87",
   "metadata": {},
   "outputs": [],
   "source": [
    "def train(model, num_epochs, batch_size, lr, device):\n",
    "    model.to(device)\n",
    "    \n",
    "    optimizer = torch.optim.SGD(model.parameters(), lr=lr)\n",
    "    loss = nn.CrossEntropyLoss()\n",
    "\n",
    "    train_loader, test_loader = get_data_loaders(batch_size)\n",
    "\n",
    "    for epoch in range(num_epochs):\n",
    "        model.train()\n",
    "        total_loss, total_correct, total_num = 0.0, 0, 0\n",
    "\n",
    "        for X, y in train_loader:\n",
    "            X, y = X.to(device), y.to(device)\n",
    "        \n",
    "            optimizer.zero_grad()\n",
    "            y_hat = model(X)\n",
    "            l = loss(y_hat, y)\n",
    "            l.backward()\n",
    "            optimizer.step()\n",
    "\n",
    "            total_loss += l.item() * X.size(0)\n",
    "            total_correct += (y_hat.argmax(dim=1) == y).sum().item()\n",
    "            total_num += X.size(0)\n",
    "\n",
    "        train_loss = total_loss / total_num\n",
    "        train_acc = total_correct / total_num\n",
    "\n",
    "        test_loss, test_acc = evaluate(model, test_loader, loss, device)\n",
    "        print(f\"Epoch {epoch+1}/{num_epochs}: \"\n",
    "              f\"Train => Loss: {train_loss:.4f}, Acc: {train_acc:.4f} | \"\n",
    "              f\"Test => Loss: {test_loss:.4f}, Acc: {test_acc:.4f}\")"
   ]
  },
  {
   "cell_type": "code",
   "execution_count": null,
   "id": "cc1f778c",
   "metadata": {},
   "outputs": [],
   "source": [
    "device = (\n",
    "    torch.device(\"cuda\") if torch.cuda.is_available()\n",
    "    else torch.device(\"mps\") if torch.backends.mps.is_available()\n",
    "    else torch.device(\"cpu\")\n",
    ")\n",
    "# model = GoogLeNet(input_channels=1, num_classes=10)  # FashionMNIST has 1 channel and 10 classes\n",
    "model = models.GoogLeNet(init_weights=None)\n",
    "model.fc = nn.Linear(1024, 10)\n",
    "num_epochs = 10\n",
    "batch_size = 128\n",
    "lr = 0.1\n",
    "\n",
    "train(model, num_epochs, batch_size, lr, device)"
   ]
  },
  {
   "cell_type": "markdown",
   "id": "08ecb052",
   "metadata": {},
   "source": [
    "### Evaluating the Model"
   ]
  },
  {
   "cell_type": "code",
   "execution_count": null,
   "id": "db9f2483",
   "metadata": {},
   "outputs": [],
   "source": [
    "# FashionMNIST class names\n",
    "FASHION_CLASSES = [\n",
    "    \"T-shirt/top\", \"Trouser\", \"Pullover\", \"Dress\", \"Coat\",\n",
    "    \"Sandal\", \"Shirt\", \"Sneaker\", \"Bag\", \"Ankle boot\"\n",
    "]\n",
    "\n",
    "def show_fashionmnist_preds(model, test_loader, device, n=8):\n",
    "    \"\"\"\n",
    "    Show n FashionMNIST test images with predicted and true labels.\n",
    "    \"\"\"\n",
    "    model.to(device)\n",
    "    model.eval()\n",
    "    with torch.no_grad():\n",
    "        X, y = next(iter(test_loader))\n",
    "        X, y = X[:n], y[:n]\n",
    "        pred = model(X.to(device)).argmax(1).cpu()\n",
    "\n",
    "    plt.figure(figsize=(2*n, 2.6))\n",
    "    for i in range(n):\n",
    "        plt.subplot(1, n, i + 1)\n",
    "        img = X[i].squeeze().cpu()\n",
    "        plt.imshow(img, cmap=\"gray\")\n",
    "        p_idx, t_idx = pred[i].item(), y[i].item()\n",
    "        plt.title(f\"P:{FASHION_CLASSES[p_idx]}\\nT:{FASHION_CLASSES[t_idx]}\", fontsize=9)\n",
    "        plt.axis(\"off\")\n",
    "    plt.tight_layout()\n",
    "    plt.show()\n",
    "\n",
    "show_fashionmnist_preds(model, test_loader, device, n=8)"
   ]
  }
 ],
 "metadata": {
  "kernelspec": {
   "display_name": "pytorch-dev",
   "language": "python",
   "name": "python3"
  },
  "language_info": {
   "codemirror_mode": {
    "name": "ipython",
    "version": 3
   },
   "file_extension": ".py",
   "mimetype": "text/x-python",
   "name": "python",
   "nbconvert_exporter": "python",
   "pygments_lexer": "ipython3",
   "version": "3.10.18"
  }
 },
 "nbformat": 4,
 "nbformat_minor": 5
}
