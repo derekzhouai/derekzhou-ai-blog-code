{
 "cells": [
  {
   "cell_type": "markdown",
   "id": "cc09a518",
   "metadata": {},
   "source": [
    "# LeNet-5\n",
    "\n",
    "This notebook is for the blog: [LeNet-5: The Origin of CNNs](https://derekzhouai.github.io/posts/building-lenet5-for-mnist/)"
   ]
  },
  {
   "cell_type": "markdown",
   "id": "21144021",
   "metadata": {},
   "source": [
    "## Model Implementation"
   ]
  },
  {
   "cell_type": "code",
   "execution_count": null,
   "id": "2af74b0b",
   "metadata": {},
   "outputs": [],
   "source": [
    "import torch.nn as nn\n",
    "\n",
    "class LeNet5(nn.Module):\n",
    "    def __init__(self, num_classes=10):\n",
    "        super().__init__()\n",
    "        self.net = nn.Sequential(\n",
    "            # Layer #1\n",
    "            nn.Conv2d(1, 6, kernel_size=5, stride=1),      # 1x32x32 → 6x28x28\n",
    "            nn.ReLU(),\n",
    "            nn.AvgPool2d(kernel_size=2, stride=2),         # 6x28x28 → 6x14x14\n",
    "\n",
    "            # Layer #2\n",
    "            nn.Conv2d(6, 16, kernel_size=5, stride=1),     # 6x14x14 → 16x10x10\n",
    "            nn.ReLU(),\n",
    "            nn.AvgPool2d(kernel_size=2, stride=2),         # 16x10x10 → 16x5x5\n",
    "\n",
    "            nn.Flatten(),                                  # 16x5x5 → 400\n",
    "\n",
    "            # Layer #3\n",
    "            nn.Linear(400, 120),                           # 400 → 120\n",
    "            nn.ReLU(),\n",
    "\n",
    "            # Layer #4\n",
    "            nn.Linear(120, 84),                            # 120 → 84\n",
    "            nn.ReLU(),\n",
    "\n",
    "            # Layer #5\n",
    "            nn.Linear(84, num_classes)                     # 84 → 10\n",
    "        )\n",
    "\n",
    "    def forward(self, x):\n",
    "        return self.net(x)"
   ]
  },
  {
   "cell_type": "markdown",
   "id": "12416867",
   "metadata": {},
   "source": [
    "## Model Training"
   ]
  },
  {
   "cell_type": "markdown",
   "id": "6016239f",
   "metadata": {},
   "source": [
    "### Preparing the Data"
   ]
  },
  {
   "cell_type": "code",
   "execution_count": 2,
   "id": "90c168e2",
   "metadata": {},
   "outputs": [],
   "source": [
    "from torch.utils.data import DataLoader\n",
    "from torchvision import datasets, transforms\n",
    "\n",
    "def get_data_loaders(batch_size=128):\n",
    "    transform = transforms.Compose([\n",
    "        transforms.Pad(2),  # 28x28 → 32x32\n",
    "        transforms.ToTensor()\n",
    "    ])\n",
    "\n",
    "    train_dataset = datasets.MNIST(root='./data', train=True, download=True, transform=transform)\n",
    "    test_dataset = datasets.MNIST(root='./data', train=False, download=True, transform=transform)\n",
    "\n",
    "    train_loader = DataLoader(train_dataset, batch_size=batch_size, shuffle=True)\n",
    "    test_loader = DataLoader(test_dataset, batch_size=batch_size, shuffle=False)\n",
    "\n",
    "    return train_loader, test_loader"
   ]
  },
  {
   "cell_type": "code",
   "execution_count": 3,
   "id": "f9be19d1",
   "metadata": {},
   "outputs": [
    {
     "name": "stdout",
     "output_type": "stream",
     "text": [
      "Number of training samples: 60000\n",
      "Number of test samples: 10000\n"
     ]
    }
   ],
   "source": [
    "train_loader, test_loader = get_data_loaders(batch_size=128)\n",
    "print(f\"Number of training samples: {len(train_loader.dataset)}\")\n",
    "print(f\"Number of test samples: {len(test_loader.dataset)}\")"
   ]
  },
  {
   "cell_type": "code",
   "execution_count": 4,
   "id": "c701acc1",
   "metadata": {},
   "outputs": [
    {
     "name": "stdout",
     "output_type": "stream",
     "text": [
      "X.shape: torch.Size([128, 1, 32, 32])\n",
      "y.shape: torch.Size([128])\n"
     ]
    }
   ],
   "source": [
    "X, y = next(iter(train_loader))\n",
    "print(f\"X.shape: {X.shape}\")\n",
    "print(f\"y.shape: {y.shape}\")"
   ]
  },
  {
   "cell_type": "markdown",
   "id": "08ecb052",
   "metadata": {},
   "source": [
    "### Training the Model"
   ]
  },
  {
   "cell_type": "code",
   "execution_count": 5,
   "id": "344a76fe",
   "metadata": {},
   "outputs": [],
   "source": [
    "import torch\n",
    "\n",
    "def evaluate(model, loader, loss, device):\n",
    "    model.eval()\n",
    "    total_loss, total_correct, total_num = 0.0, 0, 0\n",
    "\n",
    "    with torch.no_grad():\n",
    "        for X, y in loader:\n",
    "            X, y = X.to(device), y.to(device)\n",
    "            \n",
    "            y_hat = model(X)\n",
    "            l = loss(y_hat, y)\n",
    "\n",
    "            total_loss += l.item() * X.size(0)\n",
    "            total_correct += (y_hat.argmax(dim=1) == y).sum().item()\n",
    "            total_num += X.size(0)\n",
    "            \n",
    "    return total_loss / total_num, total_correct / total_num"
   ]
  },
  {
   "cell_type": "code",
   "execution_count": 6,
   "id": "89638db9",
   "metadata": {},
   "outputs": [],
   "source": [
    "def train(model, num_epochs, batch_size, lr, device):\n",
    "    model.to(device)\n",
    "    \n",
    "    optimizer = torch.optim.SGD(model.parameters(), lr=lr)\n",
    "    loss = nn.CrossEntropyLoss()\n",
    "\n",
    "    train_loader, test_loader = get_data_loaders(batch_size)\n",
    "\n",
    "    for epoch in range(num_epochs):\n",
    "        model.train()\n",
    "        total_loss, total_correct, total_num = 0.0, 0, 0\n",
    "\n",
    "        for X, y in train_loader:\n",
    "            X, y = X.to(device), y.to(device)\n",
    "        \n",
    "            optimizer.zero_grad()\n",
    "            y_hat = model(X)\n",
    "            l = loss(y_hat, y)\n",
    "            l.backward()\n",
    "            optimizer.step()\n",
    "\n",
    "            total_loss += l.item() * X.size(0)\n",
    "            total_correct += (y_hat.argmax(dim=1) == y).sum().item()\n",
    "            total_num += X.size(0)\n",
    "\n",
    "        train_loss = total_loss / total_num\n",
    "        train_acc = total_correct / total_num\n",
    "\n",
    "        test_loss, test_acc = evaluate(model, test_loader, loss, device)\n",
    "        print(f\"Epoch {epoch+1}/{num_epochs}: \"\n",
    "              f\"Train => Loss: {train_loss:.4f}, Acc: {train_acc:.4f} | \"\n",
    "              f\"Test => Loss: {test_loss:.4f}, Acc: {test_acc:.4f}\")"
   ]
  },
  {
   "cell_type": "code",
   "execution_count": 7,
   "id": "3632bfff",
   "metadata": {},
   "outputs": [
    {
     "name": "stdout",
     "output_type": "stream",
     "text": [
      "Epoch 1/10: Train => Loss: 0.7574, Acc: 0.7415 | Test => Loss: 0.1063, Acc: 0.9684\n",
      "Epoch 2/10: Train => Loss: 0.0903, Acc: 0.9726 | Test => Loss: 0.0640, Acc: 0.9799\n",
      "Epoch 3/10: Train => Loss: 0.0614, Acc: 0.9808 | Test => Loss: 0.0501, Acc: 0.9838\n",
      "Epoch 4/10: Train => Loss: 0.0472, Acc: 0.9855 | Test => Loss: 0.0437, Acc: 0.9868\n",
      "Epoch 5/10: Train => Loss: 0.0398, Acc: 0.9872 | Test => Loss: 0.0538, Acc: 0.9824\n",
      "Epoch 6/10: Train => Loss: 0.0340, Acc: 0.9891 | Test => Loss: 0.0384, Acc: 0.9884\n",
      "Epoch 7/10: Train => Loss: 0.0294, Acc: 0.9909 | Test => Loss: 0.0386, Acc: 0.9886\n",
      "Epoch 8/10: Train => Loss: 0.0252, Acc: 0.9920 | Test => Loss: 0.0333, Acc: 0.9898\n",
      "Epoch 9/10: Train => Loss: 0.0225, Acc: 0.9929 | Test => Loss: 0.0588, Acc: 0.9818\n",
      "Epoch 10/10: Train => Loss: 0.0194, Acc: 0.9935 | Test => Loss: 0.0347, Acc: 0.9901\n"
     ]
    }
   ],
   "source": [
    "device = (\n",
    "    torch.device(\"cuda\") if torch.cuda.is_available()\n",
    "    else torch.device(\"mps\") if torch.backends.mps.is_available()\n",
    "    else torch.device(\"cpu\")\n",
    ")\n",
    "model = LeNet5()\n",
    "num_epochs = 10\n",
    "batch_size = 128\n",
    "lr = 0.5\n",
    "\n",
    "train(model, num_epochs, batch_size, lr, device)"
   ]
  },
  {
   "cell_type": "markdown",
   "id": "99507d55",
   "metadata": {},
   "source": [
    "## Model Testing"
   ]
  },
  {
   "cell_type": "code",
   "execution_count": 8,
   "id": "323b3849",
   "metadata": {},
   "outputs": [
    {
     "data": {
      "image/png": "[encoded data removed]",
      "text/plain": [
       "<Figure size 1000x200 with 8 Axes>"
      ]
     },
     "metadata": {},
     "output_type": "display_data"
    }
   ],
   "source": [
    "import matplotlib.pyplot as plt\n",
    "\n",
    "X, y = next(iter(test_loader))\n",
    "X, y = X[:8], y[:8]\n",
    "pred = model(X.to(device)).argmax(1).cpu()\n",
    "\n",
    "plt.figure(figsize=(10,2))\n",
    "for i in range(8):\n",
    "    plt.subplot(1,8,i+1)\n",
    "    plt.imshow(X[i].squeeze(), cmap=\"gray\")\n",
    "    plt.title(f\"P:{pred[i].item()}\\nT:{y[i].item()}\")\n",
    "    plt.axis(\"off\")\n",
    "plt.show()"
   ]
  }
 ],
 "metadata": {
  "kernelspec": {
   "display_name": "d2l2",
   "language": "python",
   "name": "python3"
  },
  "language_info": {
   "codemirror_mode": {
    "name": "ipython",
    "version": 3
   },
   "file_extension": ".py",
   "mimetype": "text/x-python",
   "name": "python",
   "nbconvert_exporter": "python",
   "pygments_lexer": "ipython3",
   "version": "3.10.18"
  }
 },
 "nbformat": 4,
 "nbformat_minor": 5
}
