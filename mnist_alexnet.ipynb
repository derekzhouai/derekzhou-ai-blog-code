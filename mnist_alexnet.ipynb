{
 "cells": [
  {
   "cell_type": "markdown",
   "id": "cc09a518",
   "metadata": {},
   "source": [
    "# Building an AlexNet for MNIST Classification\n",
    "\n",
    "This notebook is for the blog: [Building an AlexNet for MNIST Classification](https://derekzhouai.github.io/posts/building-alexnet-for-mnist/)"
   ]
  },
  {
   "cell_type": "markdown",
   "id": "12416867",
   "metadata": {},
   "source": [
    "## Data Preparation"
   ]
  },
  {
   "cell_type": "code",
   "execution_count": 1,
   "id": "e9190612",
   "metadata": {},
   "outputs": [],
   "source": [
    "from torch.utils.data import DataLoader\n",
    "from torchvision import datasets, transforms"
   ]
  },
  {
   "cell_type": "code",
   "execution_count": 2,
   "id": "441d931c",
   "metadata": {},
   "outputs": [],
   "source": [
    "transform = transforms.Compose([\n",
    "    transforms.Resize(224),    # Upscale 28x28 → 224x224\n",
    "    transforms.ToTensor()\n",
    "])\n",
    "\n",
    "train_data = datasets.MNIST(root=\"./data\", train=True, download=True, transform=transform)\n",
    "test_data  = datasets.MNIST(root=\"./data\", train=False, download=True, transform=transform)"
   ]
  },
  {
   "cell_type": "code",
   "execution_count": 3,
   "id": "d992db90",
   "metadata": {},
   "outputs": [],
   "source": [
    "train_loader = DataLoader(train_data, batch_size=128, shuffle=True)\n",
    "test_loader = DataLoader(test_data, batch_size=256, shuffle=False)"
   ]
  },
  {
   "cell_type": "code",
   "execution_count": 4,
   "id": "f9be19d1",
   "metadata": {},
   "outputs": [
    {
     "name": "stdout",
     "output_type": "stream",
     "text": [
      "Number of training samples: 60000\n",
      "Number of test samples: 10000\n"
     ]
    }
   ],
   "source": [
    "print(f\"Number of training samples: {len(train_data)}\")\n",
    "print(f\"Number of test samples: {len(test_data)}\")"
   ]
  },
  {
   "cell_type": "code",
   "execution_count": 5,
   "id": "67ceab59",
   "metadata": {},
   "outputs": [
    {
     "name": "stdout",
     "output_type": "stream",
     "text": [
      "X.shape: torch.Size([128, 1, 224, 224]), y.shape: torch.Size([128])\n"
     ]
    }
   ],
   "source": [
    "for X, y in train_loader:\n",
    "    print(f\"X.shape: {X.shape}, y.shape: {y.shape}\")\n",
    "    break"
   ]
  },
  {
   "cell_type": "markdown",
   "id": "21144021",
   "metadata": {},
   "source": [
    "## Model Architecture"
   ]
  },
  {
   "cell_type": "code",
   "execution_count": 6,
   "id": "2af74b0b",
   "metadata": {},
   "outputs": [],
   "source": [
    "import torch.nn as nn\n",
    "\n",
    "class AlexNet(nn.Module):\n",
    "    def __init__(self, num_classes=10):\n",
    "        super().__init__()\n",
    "        self.net = nn.Sequential(\n",
    "            nn.Conv2d(1, 96, kernel_size=11, stride=4, padding=1),         #1x224x224 → 96x54x54\n",
    "            nn.ReLU(),\n",
    "            nn.MaxPool2d(kernel_size=3, stride=2),                         #96x54x54 → 96x26x26\n",
    "\n",
    "            nn.Conv2d(96, 256, kernel_size=5, padding=2),                  #96x26x26 → 256x26x26\n",
    "            nn.ReLU(),\n",
    "            nn.MaxPool2d(kernel_size=3, stride=2),                         #256x26x26 → 256x12x12\n",
    "\n",
    "            nn.Conv2d(256, 384, kernel_size=3, padding=1),                 #256x12x12 → 384x12x12\n",
    "            nn.ReLU(),\n",
    "\n",
    "            nn.Conv2d(384, 384, kernel_size=3, padding=1),                 #384x12x12 → 384x12x12\n",
    "            nn.ReLU(),\n",
    "\n",
    "            nn.Conv2d(384, 256, kernel_size=3, padding=1),                 #384x12x12 → 256x12x12\n",
    "            nn.ReLU(),\n",
    "            nn.MaxPool2d(kernel_size=3, stride=2),                         #256x12x12 → 256x5x5\n",
    "\n",
    "            nn.Flatten(),\n",
    "            nn.Linear(256 * 5 * 5, 4096),  # Adjusted for input size\n",
    "            nn.ReLU(),\n",
    "            nn.Dropout(),\n",
    "\n",
    "            nn.Linear(4096, 4096),\n",
    "            nn.ReLU(),\n",
    "            nn.Dropout(),\n",
    "            \n",
    "            nn.Linear(4096, num_classes)\n",
    "        )\n",
    "\n",
    "    def forward(self, x):\n",
    "        return self.net(x)"
   ]
  },
  {
   "cell_type": "markdown",
   "id": "1b84c39c",
   "metadata": {},
   "source": [
    "## Training Setup"
   ]
  },
  {
   "cell_type": "code",
   "execution_count": 7,
   "id": "cc1f778c",
   "metadata": {},
   "outputs": [],
   "source": [
    "import torch\n",
    "import torch.optim as optim\n",
    "\n",
    "device = (\n",
    "    torch.device(\"cuda\") if torch.cuda.is_available()\n",
    "    else torch.device(\"mps\") if torch.backends.mps.is_available()\n",
    "    else torch.device(\"cpu\")\n",
    ")\n",
    "\n",
    "model = AlexNet()\n",
    "model.to(device)\n",
    "\n",
    "loss = nn.CrossEntropyLoss()\n",
    "optimizer = optim.Adam(model.parameters(), lr=0.001)\n",
    "epochs = 5"
   ]
  },
  {
   "cell_type": "markdown",
   "id": "08ecb052",
   "metadata": {},
   "source": [
    "## Training the Model"
   ]
  },
  {
   "cell_type": "code",
   "execution_count": 8,
   "id": "89638db9",
   "metadata": {},
   "outputs": [],
   "source": [
    "def train(model, loader, optimizer, loss):\n",
    "    model.train()\n",
    "    total_loss = 0.0\n",
    "    total_correct, total_num = 0, 0\n",
    "    for X, y in loader:\n",
    "        X, y = X.to(device), y.to(device)\n",
    "        \n",
    "        optimizer.zero_grad()\n",
    "        y_hat = model(X)\n",
    "        l = loss(y_hat, y)\n",
    "        l.backward()\n",
    "        optimizer.step()\n",
    "\n",
    "        total_loss += l.item() * X.size(0)\n",
    "        preds = y_hat.argmax(dim=1)\n",
    "        total_correct += (preds == y).sum().item()\n",
    "        total_num += X.size(0)\n",
    "    return total_loss / total_num, total_correct / total_num"
   ]
  },
  {
   "cell_type": "code",
   "execution_count": 9,
   "id": "344a76fe",
   "metadata": {},
   "outputs": [],
   "source": [
    "def evaluate(model, loader, loss):\n",
    "    model.eval()\n",
    "    total_loss = 0.0\n",
    "    total_correct, total_num = 0, 0\n",
    "\n",
    "    with torch.no_grad():\n",
    "        for X, y in loader:\n",
    "            X, y = X.to(device), y.to(device)\n",
    "            \n",
    "            y_hat = model(X)\n",
    "            l = loss(y_hat, y)\n",
    "\n",
    "            total_loss += l.item() * X.size(0)\n",
    "            preds = y_hat.argmax(dim=1)\n",
    "            total_correct += (preds == y).sum().item()\n",
    "            total_num += X.size(0)\n",
    "    return total_loss / total_num, total_correct / total_num"
   ]
  },
  {
   "cell_type": "code",
   "execution_count": 10,
   "id": "a4d36c68",
   "metadata": {},
   "outputs": [
    {
     "name": "stdout",
     "output_type": "stream",
     "text": [
      "Epoch 1/5: Train (loss: 0.3830, acc: 0.8698) | Test (loss: 0.0659, acc: 0.9790)\n",
      "Epoch 2/5: Train (loss: 0.0652, acc: 0.9805) | Test (loss: 0.0444, acc: 0.9881)\n",
      "Epoch 3/5: Train (loss: 0.0509, acc: 0.9853) | Test (loss: 0.0477, acc: 0.9856)\n",
      "Epoch 4/5: Train (loss: 0.0428, acc: 0.9872) | Test (loss: 0.0404, acc: 0.9890)\n",
      "Epoch 5/5: Train (loss: 0.0394, acc: 0.9885) | Test (loss: 0.0255, acc: 0.9923)\n"
     ]
    }
   ],
   "source": [
    "for epoch in range(epochs):\n",
    "    train_loss, train_acc = train(model, train_loader, optimizer, loss)\n",
    "    test_loss, test_acc = evaluate(model, test_loader, loss)\n",
    "    print(f\"Epoch {epoch+1}/{epochs}: \"\n",
    "          f\"Train (loss: {train_loss:.4f}, acc: {train_acc:.4f}) | \"\n",
    "          f\"Test (loss: {test_loss:.4f}, acc: {test_acc:.4f})\")"
   ]
  },
  {
   "cell_type": "code",
   "execution_count": 13,
   "id": "ca0d1d75",
   "metadata": {},
   "outputs": [
    {
     "name": "stdout",
     "output_type": "stream",
     "text": [
      "Total parameters: 46764746\n",
      "Trainable parameters: 46764746\n"
     ]
    }
   ],
   "source": [
    "total_params = sum(p.numel() for p in model.parameters())\n",
    "trainable_params = sum(p.numel() for p in model.parameters() if p.requires_grad)\n",
    "\n",
    "print(f\"Total parameters: {total_params}\")\n",
    "print(f\"Trainable parameters: {trainable_params}\")"
   ]
  },
  {
   "cell_type": "markdown",
   "id": "99507d55",
   "metadata": {},
   "source": [
    "## Evaluation"
   ]
  },
  {
   "cell_type": "code",
   "execution_count": 11,
   "id": "323b3849",
   "metadata": {},
   "outputs": [
    {
     "data": {
      "image/png": "[encoded data removed]",
      "text/plain": [
       "<Figure size 1000x200 with 8 Axes>"
      ]
     },
     "metadata": {},
     "output_type": "display_data"
    }
   ],
   "source": [
    "import matplotlib.pyplot as plt\n",
    "\n",
    "X, y = next(iter(test_loader))\n",
    "X, y = X[:8], y[:8]\n",
    "pred = model(X.to(device)).argmax(1).cpu()\n",
    "\n",
    "plt.figure(figsize=(10,2))\n",
    "for i in range(8):\n",
    "    plt.subplot(1,8,i+1)\n",
    "    plt.imshow(X[i].squeeze(), cmap=\"gray\")\n",
    "    plt.title(f\"P:{pred[i].item()}\\nT:{y[i].item()}\")\n",
    "    plt.axis(\"off\")\n",
    "plt.show()"
   ]
  },
  {
   "cell_type": "code",
   "execution_count": null,
   "id": "050b46ea",
   "metadata": {},
   "outputs": [],
   "source": []
  }
 ],
 "metadata": {
  "kernelspec": {
   "display_name": "d2l2",
   "language": "python",
   "name": "python3"
  },
  "language_info": {
   "codemirror_mode": {
    "name": "ipython",
    "version": 3
   },
   "file_extension": ".py",
   "mimetype": "text/x-python",
   "name": "python",
   "nbconvert_exporter": "python",
   "pygments_lexer": "ipython3",
   "version": "3.10.18"
  }
 },
 "nbformat": 4,
 "nbformat_minor": 5
}
