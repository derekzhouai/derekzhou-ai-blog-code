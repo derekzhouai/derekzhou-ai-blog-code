{
 "cells": [
  {
   "cell_type": "markdown",
   "id": "ae17743f",
   "metadata": {},
   "source": [
    "# Explaining Backpropagation with Example\n",
    "\n",
    "This notebook is for the blog: [Explaining Backpropagation with Example](https://derekzhouai.github.io/posts/explaining-backpropagation/)"
   ]
  },
  {
   "cell_type": "code",
   "execution_count": 1,
   "id": "5d8c8b98",
   "metadata": {},
   "outputs": [],
   "source": [
    "import numpy as np"
   ]
  },
  {
   "cell_type": "markdown",
   "id": "d51f596b",
   "metadata": {},
   "source": [
    "## Initialization\n",
    "\n",
    "$X \\in \\mathbb{R}^{m \\times 2}$\n",
    "\n",
    "$W_1 \\in \\mathbb{R}^{2 \\times 3}, b_1 \\in \\mathbb{R}^{1 \\times 3}$\n",
    "\n",
    "$W_2 \\in \\mathbb{R}^{3 \\times 1}, b_2 \\in \\mathbb{R}^{1 \\times 1}$"
   ]
  },
  {
   "cell_type": "code",
   "execution_count": 2,
   "id": "09395c8b",
   "metadata": {},
   "outputs": [],
   "source": [
    "# Initialization\n",
    "m = 4\n",
    "\n",
    "X = np.array([[0.05, 0.10], [0.15, 0.20], [0.25, 0.30], [0.35, 0.40]]) # (4, 2)\n",
    "y = np.array([[0.01], [0.02], [0.03], [0.04]]) # (4, 1)\n",
    "\n",
    "W_1 = np.array([[0.15, 0.20, 0.25], [0.30, 0.35, 0.40]]) # (2, 3)\n",
    "b_1 = np.array([[0, 0, 0]]) # (1, 3)\n",
    "W_2 = np.array([[0.45], [0.50], [0.55]]) # (3, 1)\n",
    "b_2 = np.array([[0]]) # (1, 1)"
   ]
  },
  {
   "cell_type": "markdown",
   "id": "a5498dac",
   "metadata": {},
   "source": [
    "## Forward Pass"
   ]
  },
  {
   "cell_type": "code",
   "execution_count": 3,
   "id": "be0208c3",
   "metadata": {},
   "outputs": [],
   "source": [
    "def sigmoid(X):\n",
    "    return 1 / (1 + np.exp(-X))"
   ]
  },
  {
   "cell_type": "markdown",
   "id": "e941f14c",
   "metadata": {},
   "source": [
    "### Hidden layer\n",
    "\n",
    "$Z_1 = XW_1 + b_1 \\in \\mathbb{R}^{m \\times 3}$\n",
    "\n",
    "$A_1 = \\sigma(Z_1) \\in \\mathbb{R}^{m \\times 3}$"
   ]
  },
  {
   "cell_type": "code",
   "execution_count": 4,
   "id": "a0024a10",
   "metadata": {},
   "outputs": [
    {
     "data": {
      "text/plain": [
       "((4, 3),\n",
       " array([[0.0375, 0.045 , 0.0525],\n",
       "        [0.0825, 0.1   , 0.1175],\n",
       "        [0.1275, 0.155 , 0.1825],\n",
       "        [0.1725, 0.21  , 0.2475]]))"
      ]
     },
     "execution_count": 4,
     "metadata": {},
     "output_type": "execute_result"
    }
   ],
   "source": [
    "Z_1 = np.dot(X, W_1) + b_1\n",
    "Z_1.shape, Z_1"
   ]
  },
  {
   "cell_type": "code",
   "execution_count": 5,
   "id": "9db445db",
   "metadata": {},
   "outputs": [
    {
     "data": {
      "text/plain": [
       "((4, 3),\n",
       " array([[0.5093739 , 0.5112481 , 0.51312199],\n",
       "        [0.52061331, 0.52497919, 0.52934125],\n",
       "        [0.53183189, 0.53867261, 0.54549879],\n",
       "        [0.54301838, 0.55230791, 0.56156107]]))"
      ]
     },
     "execution_count": 5,
     "metadata": {},
     "output_type": "execute_result"
    }
   ],
   "source": [
    "A_1 = sigmoid(Z_1)\n",
    "A_1.shape, A_1"
   ]
  },
  {
   "cell_type": "markdown",
   "id": "cb9910c2",
   "metadata": {},
   "source": [
    "### Output layer\n",
    "\n",
    "$Z_2 = A_1 W_2 + b_2 \\in \\mathbb{R}^{m \\times 1}$\n",
    "\n",
    "$A_2 = Z_2 \\in \\mathbb{R}^{m\\times 1}$"
   ]
  },
  {
   "cell_type": "code",
   "execution_count": 6,
   "id": "38a88532",
   "metadata": {},
   "outputs": [
    {
     "data": {
      "text/plain": [
       "((4, 1),\n",
       " array([[0.7670594 ],\n",
       "        [0.78790327],\n",
       "        [0.80868499],\n",
       "        [0.82937081]]))"
      ]
     },
     "execution_count": 6,
     "metadata": {},
     "output_type": "execute_result"
    }
   ],
   "source": [
    "Z_2 = np.dot(A_1, W_2) + b_2\n",
    "Z_2.shape, Z_2"
   ]
  },
  {
   "cell_type": "code",
   "execution_count": 7,
   "id": "926fa7ff",
   "metadata": {},
   "outputs": [
    {
     "data": {
      "text/plain": [
       "((4, 1),\n",
       " array([[0.7670594 ],\n",
       "        [0.78790327],\n",
       "        [0.80868499],\n",
       "        [0.82937081]]))"
      ]
     },
     "execution_count": 7,
     "metadata": {},
     "output_type": "execute_result"
    }
   ],
   "source": [
    "A_2 = Z_2  # Linear activation for output layer\n",
    "A_2.shape, A_2"
   ]
  },
  {
   "cell_type": "markdown",
   "id": "a68a0f18",
   "metadata": {},
   "source": [
    "### Loss (MSE)\n",
    "\n",
    "$\n",
    "L = \\frac{1}{2m} \\parallel A_2 - y\\parallel_F^2 = \\frac{1}{2m}\\sum_{i=1}^m (A_2^{(i,1)}-y^{(i,1)})^2 \\in \\mathbb{R}\n",
    "$"
   ]
  },
  {
   "cell_type": "code",
   "execution_count": 8,
   "id": "cc131b53",
   "metadata": {},
   "outputs": [
    {
     "data": {
      "text/plain": [
       "np.float64(0.29903386964167666)"
      ]
     },
     "execution_count": 8,
     "metadata": {},
     "output_type": "execute_result"
    }
   ],
   "source": [
    "# Loss (MSE)\n",
    "L = 1/2 * np.mean((A_2 - y) ** 2)\n",
    "L"
   ]
  },
  {
   "cell_type": "markdown",
   "id": "1e922931",
   "metadata": {},
   "source": [
    "## Backward Pass"
   ]
  },
  {
   "cell_type": "markdown",
   "id": "9ce4b99e",
   "metadata": {},
   "source": [
    "### Output layer\n",
    "\n",
    "$\n",
    "L=\\frac{1}{2m} \\parallel A_2 - y \\parallel_F^2, \\quad\\text{with } A_2 = Z_2.\n",
    "$\n",
    "\n",
    "$\n",
    "Z_2 = A_1W_2 + b_2\n",
    "$"
   ]
  },
  {
   "cell_type": "markdown",
   "id": "3eac76a7",
   "metadata": {},
   "source": [
    "**Output error**\n",
    "\n",
    "$\n",
    "\\delta_2 = \\frac{\\partial L}{\\partial Z_2} = \\frac{\\partial L}{\\partial A_2} = \\frac{1}{m}(A_2 - y) \\in \\mathbb{R}^{m \\times 1}\n",
    "$"
   ]
  },
  {
   "cell_type": "code",
   "execution_count": 9,
   "id": "0abdb981",
   "metadata": {},
   "outputs": [
    {
     "data": {
      "text/plain": [
       "((4, 1),\n",
       " array([[0.18926485],\n",
       "        [0.19197582],\n",
       "        [0.19467125],\n",
       "        [0.1973427 ]]))"
      ]
     },
     "execution_count": 9,
     "metadata": {},
     "output_type": "execute_result"
    }
   ],
   "source": [
    "d_A2 = (A_2 - y) / m\n",
    "d_A2.shape, d_A2"
   ]
  },
  {
   "cell_type": "markdown",
   "id": "8d266fcd",
   "metadata": {},
   "source": [
    "**Output gradient**\n",
    "\n",
    "$\n",
    "\\nabla_{W_2} = \\frac{\\partial L}{\\partial W_2} = A_1^\\top\\delta_2 \\in \\mathbb{R}^{3 \\times 1}\n",
    "$\n",
    "\n",
    "$\n",
    "\\nabla_{b_2} = \\frac{\\partial L}{\\partial b_2} = \\text{rowsum}(\\delta_2) \\in \\mathbb{R}^{1 \\times 1}\n",
    "$"
   ]
  },
  {
   "cell_type": "code",
   "execution_count": 10,
   "id": "72f46344",
   "metadata": {},
   "outputs": [
    {
     "data": {
      "text/plain": [
       "((3, 1),\n",
       " array([[0.40704483],\n",
       "        [0.41140261],\n",
       "        [0.41574958]]))"
      ]
     },
     "execution_count": 10,
     "metadata": {},
     "output_type": "execute_result"
    }
   ],
   "source": [
    "d_W2 = np.dot(A_1.T, d_A2)\n",
    "d_W2.shape, d_W2"
   ]
  },
  {
   "cell_type": "code",
   "execution_count": 11,
   "id": "afb5aa4e",
   "metadata": {},
   "outputs": [
    {
     "data": {
      "text/plain": [
       "((1, 1), array([[0.77325462]]))"
      ]
     },
     "execution_count": 11,
     "metadata": {},
     "output_type": "execute_result"
    }
   ],
   "source": [
    "d_b2 = np.sum(d_A2, axis=0, keepdims=True)\n",
    "d_b2.shape, d_b2"
   ]
  },
  {
   "cell_type": "markdown",
   "id": "f30b7f5c",
   "metadata": {},
   "source": [
    "### Hidden layer\n",
    "\n",
    "$\n",
    "A_1 = \\sigma(Z_1) \\Rightarrow \\frac{\\partial A_1}{\\partial Z_1} \\;=\\; \\sigma(Z_1)\\odot \\big(1-\\sigma(Z_1)\\big) \\;=\\; A_1\\odot (1-A_1).\n",
    "$\n",
    "\n",
    "$Z_1=XW_1+b_1$\n",
    "\n",
    "$\\odot$: Element-wise multiplication"
   ]
  },
  {
   "cell_type": "markdown",
   "id": "339ccc26",
   "metadata": {},
   "source": [
    "**Hidden error**\n",
    "\n",
    "$\n",
    "\\delta_1 = \\frac{\\partial L}{\\partial Z_1} = \\left(\\frac{\\partial L}{\\partial A_1}\\right)\\odot \\left(\\frac{\\partial A_1}{\\partial Z_1}\\right)\n",
    "\\;=\\; \\big(\\delta_2 W_2^\\top\\big)\\odot \\big(A_1 \\odot (1-A_1)\\big) \\in \\mathbb{R}^{m \\times 3}\n",
    "$"
   ]
  },
  {
   "cell_type": "code",
   "execution_count": 12,
   "id": "2b691a3d",
   "metadata": {},
   "outputs": [
    {
     "data": {
      "text/plain": [
       "((4, 3),\n",
       " array([[0.08516918, 0.09463242, 0.10409567],\n",
       "        [0.08638912, 0.09598791, 0.1055867 ],\n",
       "        [0.08760206, 0.09733562, 0.10706919],\n",
       "        [0.08880422, 0.09867135, 0.10853849]]))"
      ]
     },
     "execution_count": 12,
     "metadata": {},
     "output_type": "execute_result"
    }
   ],
   "source": [
    "d_A1 = d_A2 @ W_2.T\n",
    "d_A1.shape, d_A1"
   ]
  },
  {
   "cell_type": "code",
   "execution_count": 13,
   "id": "4b768ebf",
   "metadata": {},
   "outputs": [
    {
     "data": {
      "text/plain": [
       "((4, 3),\n",
       " array([[0.02128481, 0.02364613, 0.02600599],\n",
       "        [0.02156057, 0.02393708, 0.02630577],\n",
       "        [0.02181175, 0.02418833, 0.02654565],\n",
       "        [0.02203671, 0.02439786, 0.02672329]]))"
      ]
     },
     "execution_count": 13,
     "metadata": {},
     "output_type": "execute_result"
    }
   ],
   "source": [
    "d_Z1 = d_A1 * (A_1 * (1 - A_1))\n",
    "d_Z1.shape, d_Z1"
   ]
  },
  {
   "cell_type": "markdown",
   "id": "0b79700a",
   "metadata": {},
   "source": [
    "**Hidden gradients**\n",
    "\n",
    "$\n",
    "\\nabla_{W_1} = X^\\top\\delta_1 \\in \\mathbb{R}^{2 \\times 3}\n",
    "$\n",
    "\n",
    "$\n",
    "\\nabla_{b_1} = \\text{rowsum}(\\delta_1) \\in \\mathbb{R}^{1 \\times 3}\n",
    "$"
   ]
  },
  {
   "cell_type": "code",
   "execution_count": 14,
   "id": "bbad498c",
   "metadata": {},
   "outputs": [
    {
     "data": {
      "text/plain": [
       "((2, 3),\n",
       " array([[0.01746411, 0.0193592 , 0.02123573],\n",
       "        [0.02179881, 0.02416767, 0.02651476]]))"
      ]
     },
     "execution_count": 14,
     "metadata": {},
     "output_type": "execute_result"
    }
   ],
   "source": [
    "d_W1 = X.T @ d_Z1\n",
    "d_W1.shape, d_W1"
   ]
  },
  {
   "cell_type": "code",
   "execution_count": 15,
   "id": "88f9e5dd",
   "metadata": {},
   "outputs": [
    {
     "data": {
      "text/plain": [
       "((1, 3), array([[0.08669385, 0.09616941, 0.1055807 ]]))"
      ]
     },
     "execution_count": 15,
     "metadata": {},
     "output_type": "execute_result"
    }
   ],
   "source": [
    "d_b1 = np.sum(d_Z1, axis=0, keepdims=True)\n",
    "d_b1.shape, d_b1"
   ]
  }
 ],
 "metadata": {
  "kernelspec": {
   "display_name": "mlenv",
   "language": "python",
   "name": "python3"
  },
  "language_info": {
   "codemirror_mode": {
    "name": "ipython",
    "version": 3
   },
   "file_extension": ".py",
   "mimetype": "text/x-python",
   "name": "python",
   "nbconvert_exporter": "python",
   "pygments_lexer": "ipython3",
   "version": "3.11.11"
  }
 },
 "nbformat": 4,
 "nbformat_minor": 5
}
